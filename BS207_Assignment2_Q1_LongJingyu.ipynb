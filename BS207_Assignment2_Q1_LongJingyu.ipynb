{
 "cells": [
  {
   "cell_type": "code",
   "execution_count": 2,
   "id": "81a0d500",
   "metadata": {},
   "outputs": [],
   "source": [
    "import numpy as np\n",
    "import matplotlib.pyplot as plt"
   ]
  },
  {
   "cell_type": "code",
   "execution_count": 6,
   "id": "fc832ad0",
   "metadata": {},
   "outputs": [
    {
     "name": "stdout",
     "output_type": "stream",
     "text": [
      "The maximum h= 0.41019999999998785\n"
     ]
    }
   ],
   "source": [
    "# Based on the Qa’s formula to get x\n",
    "def grad(x, h):\n",
    "    if x<1:\n",
    "        return -1\n",
    "    elif 1<x< (1+h):\n",
    "        return 1\n",
    "    elif (1+h)< x<(1+2*h):\n",
    "        return -1\n",
    "    else:\n",
    "        return -0.3\n",
    "# Adam Optimizer\n",
    "def max_h( deri, n_iter, alpha, beta1, beta2, eps=0):\n",
    "    for h in np.arange(0.3,1,0.0001):        \n",
    "        x = 0\n",
    "        m = 0.0\n",
    "        v = 0.0                   \n",
    "        for t in range(1,n_iter):  \n",
    "            g = grad(x,h)   \n",
    "            m = beta1 * m + (1 - beta1) * g               \n",
    "            v = beta2 * v + (1 - beta2) * g**2 \n",
    "            mhat = m / (1.0 - beta1**t)          \n",
    "            vhat = v / (1.0 - beta2**t)\n",
    "            x = x - alpha * mhat / (vhat**0.5 )      \n",
    "            if x>(1+h):\n",
    "                break\n",
    "        if x<(1+h):\n",
    "            print(\"The maximum h=\", h)\n",
    "            break  \n",
    "#generate the parameters of Adam.            \n",
    "N_iter = 1000\n",
    "alpha = 0.3\n",
    "beta1 = 0.9\n",
    "beta2 = 0.999\n",
    "max_h( grad, N_iter, alpha, beta1, beta2)        "
   ]
  },
  {
   "cell_type": "code",
   "execution_count": null,
   "id": "5db14d66",
   "metadata": {},
   "outputs": [],
   "source": []
  }
 ],
 "metadata": {
  "kernelspec": {
   "display_name": "Python 3",
   "language": "python",
   "name": "python3"
  },
  "language_info": {
   "codemirror_mode": {
    "name": "ipython",
    "version": 3
   },
   "file_extension": ".py",
   "mimetype": "text/x-python",
   "name": "python",
   "nbconvert_exporter": "python",
   "pygments_lexer": "ipython3",
   "version": "3.8.8"
  }
 },
 "nbformat": 4,
 "nbformat_minor": 5
}
